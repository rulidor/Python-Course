{
 "cells": [
  {
   "cell_type": "markdown",
   "metadata": {},
   "source": [
    "# Reccurssion"
   ]
  },
  {
   "cell_type": "markdown",
   "metadata": {},
   "source": [
    "## Example 1: Reverse Digits"
   ]
  },
  {
   "cell_type": "code",
   "execution_count": null,
   "metadata": {
    "collapsed": true
   },
   "outputs": [],
   "source": [
    "def reverse_help(num, res):\n",
    "    if (num == 0):\n",
    "        return res\n",
    "    last_digit_removed = num//10 # remove last digit for recurssion call\n",
    "    res = 10 * res + num % 10 # \n",
    "    print(\"res is: \" , res , \" ||  last digit is: \" , last_digit_removed )\n",
    "    return reverse_help(last_digit_removed, res)\n",
    "\n",
    "def reverse_digits(num):\n",
    "    return reverse_help(num, 0) # call to the helper function\n"
   ]
  },
  {
   "cell_type": "code",
   "execution_count": null,
   "metadata": {
    "collapsed": true
   },
   "outputs": [],
   "source": [
    "reverse_digits(123)"
   ]
  },
  {
   "cell_type": "markdown",
   "metadata": {},
   "source": [
    "## Example 2: Permute"
   ]
  },
  {
   "cell_type": "code",
   "execution_count": null,
   "metadata": {
    "collapsed": true
   },
   "outputs": [],
   "source": [
    "def permutation(set2check):\n",
    "    \n",
    "    if len(set2check) == 1: # ternimation condition\n",
    "     return [set2check]\n",
    "\n",
    "    permutations = [] # resulting list\n",
    "    for element in set2check:  # on each iteration, one element is chosen as the last element\n",
    "        subset = set2check[:] # copy set to subset\n",
    "        subset.remove(element)\n",
    "        sub_perms = permutation(subset) # create all sub-permutations - recursive step\n",
    "\n",
    "        for perm in sub_perms:\n",
    "            permutations.append([element] + perm)\n",
    "\n",
    "    return permutations"
   ]
  },
  {
   "cell_type": "code",
   "execution_count": null,
   "metadata": {},
   "outputs": [],
   "source": [
    "permutation([1,2,3])"
   ]
  },
  {
   "cell_type": "markdown",
   "metadata": {},
   "source": [
    "## Example 3: Choose K elements from n with Memorization"
   ]
  },
  {
   "cell_type": "code",
   "execution_count": null,
   "metadata": {
    "collapsed": true
   },
   "outputs": [],
   "source": [
    "def choose_helper(n, k , results_dict):\n",
    "    if k==0 or n==k:\n",
    "        return 1\n",
    "    if n < k:\n",
    "        return 0\n",
    "    \n",
    "    if (n,k) not in results_dict: # check if result was already computed\n",
    "        results_dict[(n,k)] = choose_helper(n - 1, k - 1 , results_dict ) + choose_helper(n - 1, k , results_dict)\n",
    "        print(results_dict) # for tracing\n",
    "    return results_dict[(n,k)]\n",
    "\n",
    "\n",
    "def choose(n,k):\n",
    "    return choose_helper(n, k , {} )\n",
    "\n"
   ]
  },
  {
   "cell_type": "code",
   "execution_count": null,
   "metadata": {
    "collapsed": true
   },
   "outputs": [],
   "source": [
    "choose(4, 2)"
   ]
  },
  {
   "cell_type": "markdown",
   "metadata": {},
   "source": [
    "## Example 4: Sum of Integers"
   ]
  },
  {
   "cell_type": "code",
   "execution_count": null,
   "metadata": {
    "collapsed": true
   },
   "outputs": [],
   "source": [
    "def num_ways_helper(n , memo_list):\n",
    "    if n == 0 :\n",
    "        return 1\n",
    "    \n",
    "    if memo_list[n] == -1 :\n",
    "        memo_list[n] = 0 \n",
    "        for i in range(1,n+1):\n",
    "            memo_list[n] += num_ways_helper(n-i , memo_list)\n",
    "            \n",
    "    return memo_list[n] \n",
    "\n",
    "\n",
    "def num_ways(n):\n",
    "    memo_list = [-1]*(n+1)\n",
    "    return num_ways_helper(n , memo_list)\n"
   ]
  },
  {
   "cell_type": "code",
   "execution_count": null,
   "metadata": {
    "collapsed": true
   },
   "outputs": [],
   "source": [
    "num_ways(4)"
   ]
  },
  {
   "cell_type": "markdown",
   "metadata": {},
   "source": [
    "## Example 5: Inheritance Partition"
   ]
  },
  {
   "cell_type": "code",
   "execution_count": null,
   "metadata": {
    "collapsed": true
   },
   "outputs": [],
   "source": [
    "def partition(lst,s1,s2, mem = None):\n",
    "    if not lst: # if the list is empty\n",
    "        return s1 == s2\n",
    "    if mem == None: # if we didn't get the memo as input\n",
    "        mem = {}\n",
    "        \n",
    "    key = (len(lst), s1, s2)\n",
    "    if key not in mem:\n",
    "        give_Liora = partition(lst[1:],s1+lst[0],s2,mem)\n",
    "        give_Yosi = partition(lst[1:],s1,lst[0] + s2,mem)\n",
    "        mem[key] = give_Liora or give_Yosi # either ways works - we only need on partition\n",
    "        \n",
    "    return mem[key]\n",
    "\n"
   ]
  },
  {
   "cell_type": "code",
   "execution_count": null,
   "metadata": {
    "collapsed": true
   },
   "outputs": [],
   "source": [
    "yuli_assets = [3,1,6,8]\n",
    "\n",
    "par = partition(yuli_assets,0,0)\n",
    "print( par )\n"
   ]
  },
  {
   "cell_type": "code",
   "execution_count": null,
   "metadata": {
    "collapsed": true
   },
   "outputs": [],
   "source": [
    "yuli_assets1 = [3,1,6,9]\n",
    "\n",
    "par1 = partition(yuli_assets1,0,0)\n",
    "print (par1)\n"
   ]
  },
  {
   "cell_type": "markdown",
   "metadata": {},
   "source": [
    "## Example 6: Eight Queens"
   ]
  },
  {
   "cell_type": "code",
   "execution_count": null,
   "metadata": {
    "collapsed": true
   },
   "outputs": [],
   "source": [
    "def is_available(row, table, column, N):\n",
    "    for t, i in zip(table, range(column, 0, -1)):\n",
    "        if( t in (row, row - i, row + i )):\n",
    "           return False\n",
    "    return True\n",
    "                   "
   ]
  },
  {
   "cell_type": "code",
   "execution_count": null,
   "metadata": {
    "collapsed": true
   },
   "outputs": [],
   "source": [
    "table = [3, 1, 5, 0, 0, 2, 0, 8]\n",
    "column = 5\n",
    "row = 3\n",
    "for t, i in zip(table, range(column, 0, -1)):\n",
    "    print(t, i)"
   ]
  },
  {
   "cell_type": "code",
   "execution_count": null,
   "metadata": {
    "collapsed": true
   },
   "outputs": [],
   "source": [
    "def solve(N, table, column, end):\n",
    "    if column == end:\n",
    "        return 1\n",
    "\n",
    "    sum_sol = 0\n",
    "    for row in range(N): \n",
    "        # if no other queen can attack here, place a queen in this row \n",
    "        if is_available(row, table, column, N):\n",
    "            table[column] = row\n",
    "            sum_sol += solve(N, table, column + 1, end)\n",
    "        #else: we can't place queen here, continue to next row\n",
    "\n",
    "    return sum_sol\n",
    "\n",
    "def N_queens(N):\n",
    "    return solve(N, [0]*N, 0, N)"
   ]
  },
  {
   "cell_type": "code",
   "execution_count": null,
   "metadata": {
    "collapsed": true
   },
   "outputs": [],
   "source": [
    "N_queens(8)"
   ]
  }
 ],
 "metadata": {
  "kernelspec": {
   "display_name": "Python 3",
   "language": "python",
   "name": "python3"
  },
  "language_info": {
   "codemirror_mode": {
    "name": "ipython",
    "version": 3
   },
   "file_extension": ".py",
   "mimetype": "text/x-python",
   "name": "python",
   "nbconvert_exporter": "python",
   "pygments_lexer": "ipython3",
   "version": "3.6.1"
  }
 },
 "nbformat": 4,
 "nbformat_minor": 2
}