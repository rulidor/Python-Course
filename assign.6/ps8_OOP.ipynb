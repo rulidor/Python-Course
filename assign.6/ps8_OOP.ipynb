{
 "cells": [
  {
   "cell_type": "markdown",
   "metadata": {},
   "source": [
    "## Simple class definition - mystring"
   ]
  },
  {
   "cell_type": "code",
   "execution_count": null,
   "metadata": {
    "collapsed": true
   },
   "outputs": [],
   "source": [
    "# this is the class definition. We write \"class\" (pythons word) and its name\n",
    "class mystring:\n",
    "    \n",
    "    # Constructor - we need it to initialize a new instance (object)\n",
    "    def __init__(self, given_string):\n",
    "        # value and mystring_len are now fields of a mystring object. We attached them to the object by using self.\n",
    "        self.value = given_string\n",
    "        self.mystring_len = len(given_string)\n",
    "        \n",
    "    # Method - just like the built-in methods we use all the time\n",
    "    def my_upper(self):\n",
    "        # to access the objects fields we use self.\n",
    "        upper_string = ''\n",
    "        for c in self.value:\n",
    "            upper_string += c.upper()\n",
    "        self.value = upper_string\n",
    "    \n",
    "    # Method\n",
    "    def print_mystring(self):\n",
    "        print(\"##### You are printing a mystring object #####\")\n",
    "        print(self.value)\n",
    "        print(\"##### Thank you for using mystring! #####\")\n",
    "\n",
    "# # To create an object of some class we call it, just like we call a function. The constructor is then initiated and builds the\n",
    "# # object using the arguments we pass - \n",
    "# my_str_obj = mystring('First class example!')\n",
    "# my_str_obj.print_mystring()\n",
    "\n",
    "# # We can use the methods - we already know it...\n",
    "# my_str_obj.my_upper()\n",
    "# my_str_obj.print_mystring()\n",
    "\n",
    "# We can also access the object's fields (like the len we calculated or the value)\n",
    "print(my_str_obj.value)\n",
    "print(my_str_obj.mystring_len)"
   ]
  },
  {
   "cell_type": "markdown",
   "metadata": {},
   "source": [
    "## Date, Event, Calender classes"
   ]
  },
  {
   "cell_type": "code",
   "execution_count": null,
   "metadata": {
    "collapsed": true
   },
   "outputs": [],
   "source": [
    "import copy\n",
    "\n",
    "class Date:\n",
    "    \n",
    "   \n",
    "    def __init__(self, day, month, year, hours=0, minutes=0):\n",
    "        self.day = day\n",
    "        self.month = month\n",
    "        self.year = year\n",
    "        self.days_per_month = [31, 28, 31, 30, 31, 30, 31, 31, 30, 31, 30, 31]\n",
    "        self.hours = hours\n",
    "        self.minutes = minutes\n",
    "        self.validate()\n",
    "\n",
    "    def validate(self):\n",
    "        if not 1 <= self.month <= 12:\n",
    "            raise ValueError(\"Invalid month\")\n",
    "\n",
    "        if not 1 <= self.day <= self.days_in_month():\n",
    "            raise ValueError(\"Invalid day\")\n",
    "\n",
    "        if not 0 <= self.hours < 24:\n",
    "            raise ValueError(\"Invalid hours\")\n",
    "\n",
    "        if not 0 <= self.minutes < 60:\n",
    "            raise ValueError(\"Invalid minutes\")\n",
    "\n",
    "    def days_in_month(self):\n",
    "        if self.month == 2 and self.is_leap_year():\n",
    "            return 29\n",
    "        return self.days_per_month[self.month-1]\n",
    "           \n",
    "    def is_leap_year(self):\n",
    "        if self.year % 400 == 0:\n",
    "            return True\n",
    "        elif self.year % 100 == 0:\n",
    "            return False\n",
    "        elif self.year % 4 == 0:\n",
    "            return True\n",
    "        else:\n",
    "            return False\n",
    "\n",
    "    def increment_days(self, days=1):\n",
    "        self.day += days\n",
    "        while self.day > self.days_in_month():\n",
    "            self.day -= self.days_in_month()\n",
    "            self.month += 1\n",
    "            if self.month > 12:\n",
    "                self.month = 1\n",
    "                self.year += 1\n",
    "                \n",
    "    def increment_hours(self, hours):\n",
    "        self.hours += hours\n",
    "        if self.hours >= 24:\n",
    "            self.increment_days(self.hours / 24)\n",
    "            self.hours = self.hours % 24\n",
    "            \n",
    "    def increment_minutes(self, minutes):\n",
    "        self.minutes += minutes\n",
    "        if self.minutes >= 60:\n",
    "            self.increment_hours(self.minutes/60)\n",
    "            self.minutes = self.minutes % 60\n",
    "       \n",
    "    def __gt__(self, date):\n",
    "        if self.year > date.year: return True\n",
    "        if self.year < date.year: return False\n",
    "        # if reached here - same year\n",
    "        if self.month > date.month: return True\n",
    "        if self.month < date.month: return False\n",
    "        # if reached here - same year and month\n",
    "        if self.day > date.day: return True\n",
    "        if self.day < date.day: return False\n",
    "        # if reached here - same year, month and day\n",
    "        if self.hours > date.hours: return True\n",
    "        if self.hours < date.hours: return False\n",
    "        # if reached here - same year, month, day and hour\n",
    "        if self.minutes > date.minutes: return True\n",
    "        if self.minutes < date.minutes: return False\n",
    "        return False \n",
    "    \n",
    "    def __eq__(self, date):\n",
    "        return self.year == date.year and self.month == date.month and self.day == date.day and \\\n",
    "            self.hours == date.hours and self.minutes == date.minutes\n",
    "    \n",
    "    def __ge__(self, date):\n",
    "        return self > date or self == date\n",
    "\n",
    "    def __repr__(self):\n",
    "        return \"%02d/%02d/%02d %02d:%02d\" % \\\n",
    "               (self.day, self.month, self.year, self.hours, self.minutes)\n",
    "        \n",
    " \n"
   ]
  },
  {
   "cell_type": "code",
   "execution_count": null,
   "metadata": {
    "collapsed": true
   },
   "outputs": [],
   "source": [
    "d1 = Date(1,1,2001,13,0)\n",
    "d2 = Date(1,1,2000,13,0)\n",
    "d1 == d2"
   ]
  },
  {
   "cell_type": "markdown",
   "metadata": {},
   "source": [
    "#### Event"
   ]
  },
  {
   "cell_type": "code",
   "execution_count": null,
   "metadata": {
    "collapsed": true
   },
   "outputs": [],
   "source": [
    "class Event:\n",
    "    def __init__(self, title, start, end):\n",
    "        self.title = title\n",
    "        if start < end:\n",
    "            self.start = start\n",
    "            self.end = end\n",
    "        else:\n",
    "            self.start = end\n",
    "            self.end = start\n",
    "            \n",
    "    def is_conflicting(self, other):\n",
    "        return self.start <= other.start < self.end or \\\n",
    "               self.start < other.end <= self.end\n",
    "\n",
    "    def __repr__(self):\n",
    "        return str(self.start) + \" - \" + str(self.end) + \" : \" + self.title\n",
    "\n",
    "  "
   ]
  },
  {
   "cell_type": "markdown",
   "metadata": {},
   "source": [
    "#### Calendar"
   ]
  },
  {
   "cell_type": "code",
   "execution_count": null,
   "metadata": {
    "collapsed": true
   },
   "outputs": [],
   "source": [
    "class Calendar:\n",
    "    def __init__(self):\n",
    "        self.events = []\n",
    "\n",
    "    def add_event(self, event):\n",
    "        for index, e in enumerate(self.events):\n",
    "            if event.end < e.start:\n",
    "                self.events.insert(index, event)\n",
    "                return\n",
    "            if e.is_conflicting(event):\n",
    "                raise ValueError(\"Conflict detected\")\n",
    "        self.events.append(event)\n",
    "        \n",
    "    # same code as add_event but using the + operator (with small validation changes)\n",
    "    # Important note: we usually use the operators to add the same type / types that makes sense (int + rational) \n",
    "    # - this is a demonstration, just to show we can use the operators as we want.\n",
    "    def __add__(self, event):\n",
    "        if type(event) != Event:\n",
    "            print(\"Can only add Event type to the Calendar\")\n",
    "            return\n",
    "        for index, e in enumerate(self.events):\n",
    "            if event.end < e.start:\n",
    "                self.events.insert(index, event)\n",
    "                return\n",
    "            if e.is_conflicting(event):\n",
    "                raise ValueError(\"Conflict detected\")\n",
    "        self.events.append(event)\n",
    "\n",
    "    def find_empty_slot(self, title, minutes):\n",
    "        for i in range(len(self.events)):\n",
    "            start = copy.copy(self.events[i].end)\n",
    "            end = copy.copy(start)\n",
    "            end.increment_minutes(minutes)\n",
    "            tentative = Event(title, start, end)\n",
    "            if i == len(self.events)-1 or \\\n",
    "               not self.events[i+1].is_conflicting(tentative):               \n",
    "                return tentative\n",
    "\n",
    "    def __repr__(self):\n",
    "        return \"\\n\".join([str(e) for e in self.events]) "
   ]
  },
  {
   "cell_type": "markdown",
   "metadata": {},
   "source": [
    "# Main"
   ]
  },
  {
   "cell_type": "markdown",
   "metadata": {},
   "source": [
    "### Dates initialization and validation"
   ]
  },
  {
   "cell_type": "code",
   "execution_count": null,
   "metadata": {
    "collapsed": true
   },
   "outputs": [],
   "source": [
    "dt = Date(25, 10, 2018)\n",
    "print(dt.day, dt.month, dt.year)\n",
    "\n",
    "# dt = Date(32,12,2018) # Invalid\n",
    "\n",
    "# dt = Date(29,2,2018).day # 2018 is not a leaped year, lets try 2016"
   ]
  },
  {
   "cell_type": "markdown",
   "metadata": {},
   "source": [
    "### Increment + validation"
   ]
  },
  {
   "cell_type": "code",
   "execution_count": null,
   "metadata": {
    "collapsed": true
   },
   "outputs": [],
   "source": [
    "dt = Date(25, 10, 2018)\n",
    "dt.increment_days(3)\n",
    "print(dt.day, dt.month, dt.year)"
   ]
  },
  {
   "cell_type": "code",
   "execution_count": null,
   "metadata": {
    "collapsed": true
   },
   "outputs": [],
   "source": [
    "dt = Date(25, 12, 2018)\n",
    "dt.increment_days(20)\n",
    "print(dt.day, dt.month, dt.year)"
   ]
  },
  {
   "cell_type": "code",
   "execution_count": null,
   "metadata": {
    "collapsed": true
   },
   "outputs": [],
   "source": [
    "dt = Date(25, 12, 2018, 26, 25)\n",
    "\n",
    "# dt = Date(25, 12, 2018, 18, 67)\n",
    "\n",
    "# dt = Date(25, 12, 2018, 18, 35)\n",
    "# print(dt.day, dt.month, dt.year, dt.hours, dt.minutes)\n",
    "\n",
    "# dt.increment_hours(3)\n",
    "# dt.increment_minutes(5)\n",
    "# print(dt.day, dt.month, dt.year, dt.hours, dt.minutes)"
   ]
  },
  {
   "cell_type": "markdown",
   "metadata": {},
   "source": [
    "### Comparison"
   ]
  },
  {
   "cell_type": "code",
   "execution_count": null,
   "metadata": {
    "collapsed": true
   },
   "outputs": [],
   "source": [
    "d1 = Date(1,1,2018,13,0)\n",
    "d2 = Date(1,1,2017,13,0)\n",
    "d1 > d2\n",
    "# d1 == d2\n",
    "# d1 < d2"
   ]
  },
  {
   "cell_type": "code",
   "execution_count": null,
   "metadata": {
    "collapsed": true
   },
   "outputs": [],
   "source": [
    "d3 = Date(1,1,2020,13,0)\n",
    "d4 = Date(1,1,2014,13,0)\n",
    "# [2017, 2018, 2020, 2014]\n",
    "dates_list = [d2,d1,d3,d4]"
   ]
  },
  {
   "cell_type": "code",
   "execution_count": null,
   "metadata": {
    "collapsed": true
   },
   "outputs": [],
   "source": [
    "# Can we use sorted? Why not if we can compare?\n",
    "sorted(dates_list)"
   ]
  },
  {
   "cell_type": "markdown",
   "metadata": {},
   "source": [
    "### Events and Calendar + methods overload"
   ]
  },
  {
   "cell_type": "code",
   "execution_count": null,
   "metadata": {
    "collapsed": true
   },
   "outputs": [],
   "source": [
    "e = Event('test', Date(1,1,2000,12,0), Date(1,1,2000,13,0))\n",
    "e2 = Event('test2', Date(2,1,2000,12,0), Date(2,1,2000,13,0))\n",
    "e3 = Event('test3', Date(3,1,2000,12,0), Date(3,1,2000,13,0))\n",
    "print(e)"
   ]
  },
  {
   "cell_type": "code",
   "execution_count": null,
   "metadata": {
    "collapsed": true
   },
   "outputs": [],
   "source": [
    "c = Calendar()\n",
    "c.add_event(e)\n",
    "c.add_event(e2)"
   ]
  },
  {
   "cell_type": "code",
   "execution_count": null,
   "metadata": {
    "collapsed": true
   },
   "outputs": [],
   "source": [
    "# print method overload - using __repr__\n",
    "print(c)"
   ]
  },
  {
   "cell_type": "code",
   "execution_count": null,
   "metadata": {
    "collapsed": true
   },
   "outputs": [],
   "source": [
    "# adding an event with overloading + operator\n",
    "c + e3\n",
    "\n",
    "# Note: we can see the Calendar is a mutable object - when we add to c, it is being changed.\n",
    "# To make it immutable we need to change the methods so a new object (Calendar in this case) will be returned."
   ]
  },
  {
   "cell_type": "code",
   "execution_count": null,
   "metadata": {
    "collapsed": true
   },
   "outputs": [],
   "source": [
    "print(c)"
   ]
  }
 ],
 "metadata": {
  "kernelspec": {
   "display_name": "Python 3",
   "language": "python",
   "name": "python3"
  },
  "language_info": {
   "codemirror_mode": {
    "name": "ipython",
    "version": 3
   },
   "file_extension": ".py",
   "mimetype": "text/x-python",
   "name": "python",
   "nbconvert_exporter": "python",
   "pygments_lexer": "ipython3",
   "version": "3.6.1"
  }
 },
 "nbformat": 4,
 "nbformat_minor": 2
}
